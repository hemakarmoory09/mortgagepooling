{
 "cells": [
  {
   "cell_type": "code",
   "execution_count": 5,
   "metadata": {},
   "outputs": [],
   "source": [
    "import os, json\n",
    "import pandas as pd\n",
    "\n",
    "path_to_json = '/Users/hkarmoory/Documents/Black Knight/Mortgage Pooling/Pool Optimization Data for TC v5/Eligible Pricing Combinations/'\n",
    "json_files = [pos_json for pos_json in os.listdir(path_to_json) if pos_json.endswith('.json')]\n",
    "#print(json_files)"
   ]
  },
  {
   "cell_type": "code",
   "execution_count": 9,
   "metadata": {},
   "outputs": [],
   "source": [
    "for file in json_files:\n",
    "    with open(path_to_json+file, 'r+') as f:\n",
    "        data = json.load(f)\n",
    "        data['poolOptionJ'] = data.pop('Pool Opton, j')\n",
    "        data['pricePijk'] = data.pop('Price, P_ijk')\n",
    "        data['servicerk'] = data.pop('Servicer, k')\n",
    "        #print(data)\n",
    "    with open(path_to_json+file, 'w') as f:\n",
    "        json.dump(data, f, ensure_ascii=False)\n",
    "       \n"
   ]
  },
  {
   "cell_type": "code",
   "execution_count": null,
   "metadata": {},
   "outputs": [],
   "source": []
  }
 ],
 "metadata": {
  "kernelspec": {
   "display_name": "Python 3",
   "language": "python",
   "name": "python3"
  },
  "language_info": {
   "codemirror_mode": {
    "name": "ipython",
    "version": 3
   },
   "file_extension": ".py",
   "mimetype": "text/x-python",
   "name": "python",
   "nbconvert_exporter": "python",
   "pygments_lexer": "ipython3",
   "version": "3.7.4"
  }
 },
 "nbformat": 4,
 "nbformat_minor": 2
}
